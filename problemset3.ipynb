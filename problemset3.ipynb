{
 "cells": [
  {
   "cell_type": "markdown",
   "id": "664528f0",
   "metadata": {},
   "source": [
    "<h1 style=\"color:mediumslateblue\">QUESTION 1: OCCUPATIONS</h1>"
   ]
  },
  {
   "cell_type": "markdown",
   "id": "f0514b02",
   "metadata": {},
   "source": [
    "<h2><span style=\"color:darkcyan\">STEP 1:</span> <span style=\"color:darkseagreen\">Import the necessary libraries</span></h2>"
   ]
  },
  {
   "cell_type": "code",
   "execution_count": 1,
   "id": "3ed502e1",
   "metadata": {},
   "outputs": [],
   "source": [
    "import pandas as pd\n",
    "import numpy as np"
   ]
  },
  {
   "cell_type": "markdown",
   "id": "118b6153",
   "metadata": {},
   "source": [
    "<h2><span style=\"color:darkcyan\">STEP 2:</span> <span style=\"color:darkseagreen\">Import the dataset from this</span> <span style=\"color:thisle\"><a href=\"https://raw.githubusercontent.com/justmarkham/DAT8/master/data/u.user\">address</a></span></h2>"
   ]
  },
  {
   "cell_type": "code",
   "execution_count": 2,
   "id": "121f461e",
   "metadata": {},
   "outputs": [],
   "source": [
    "url = 'https://raw.githubusercontent.com/justmarkham/DAT8/master/data/u.user'\n",
    "users = pd.read_csv(url, sep='|')"
   ]
  },
  {
   "cell_type": "markdown",
   "id": "f9a5558d",
   "metadata": {},
   "source": [
    "<h2><span style=\"color:darkcyan\">STEP 3:</span> <span style=\"color:darkseagreen\">Assign it to a variable called users</span></h2>"
   ]
  },
  {
   "cell_type": "code",
   "execution_count": 3,
   "id": "15afd590",
   "metadata": {},
   "outputs": [],
   "source": [
    "users = pd.read_csv(url, sep='|')"
   ]
  },
  {
   "cell_type": "markdown",
   "id": "38188731",
   "metadata": {},
   "source": [
    "<h2><span style=\"color:darkcyan\">STEP 4:</span> <span style=\"color:darkseagreen\">Discover what is the mean age per occupation</span></h2>"
   ]
  },
  {
   "cell_type": "code",
   "execution_count": 4,
   "id": "31b4b8c7",
   "metadata": {},
   "outputs": [
    {
     "name": "stdout",
     "output_type": "stream",
     "text": [
      "occupation\n",
      "administrator    38.746835\n",
      "artist           31.392857\n",
      "doctor           43.571429\n",
      "educator         42.010526\n",
      "engineer         36.388060\n",
      "entertainment    29.222222\n",
      "executive        38.718750\n",
      "healthcare       41.562500\n",
      "homemaker        32.571429\n",
      "lawyer           36.750000\n",
      "librarian        40.000000\n",
      "marketing        37.615385\n",
      "none             26.555556\n",
      "other            34.523810\n",
      "programmer       33.121212\n",
      "retired          63.071429\n",
      "salesman         35.666667\n",
      "scientist        35.548387\n",
      "student          22.081633\n",
      "technician       33.148148\n",
      "writer           36.311111\n",
      "Name: age, dtype: float64\n"
     ]
    }
   ],
   "source": [
    "mean_age_by_occupation = users.groupby('occupation')['age'].mean()\n",
    "print(mean_age_by_occupation)"
   ]
  },
  {
   "cell_type": "markdown",
   "id": "df272486",
   "metadata": {},
   "source": [
    "<h2><span style=\"color:darkcyan\">STEP 5:</span> <span style=\"color:darkseagreen\">Discover the Male ratio per occupation and sort it from the most to the least</span></h2>"
   ]
  },
  {
   "cell_type": "code",
   "execution_count": 5,
   "id": "2d41520b",
   "metadata": {},
   "outputs": [
    {
     "name": "stdout",
     "output_type": "stream",
     "text": [
      "occupation\n",
      "doctor           1.000000\n",
      "engineer         0.970149\n",
      "technician       0.962963\n",
      "retired          0.928571\n",
      "programmer       0.909091\n",
      "executive        0.906250\n",
      "scientist        0.903226\n",
      "entertainment    0.888889\n",
      "lawyer           0.833333\n",
      "salesman         0.750000\n",
      "educator         0.726316\n",
      "student          0.693878\n",
      "other            0.657143\n",
      "marketing        0.615385\n",
      "writer           0.577778\n",
      "none             0.555556\n",
      "administrator    0.544304\n",
      "artist           0.535714\n",
      "librarian        0.431373\n",
      "healthcare       0.312500\n",
      "homemaker        0.142857\n",
      "Name: gender_num, dtype: float64\n"
     ]
    }
   ],
   "source": [
    "users['gender_num'] = users['gender'].apply(lambda x: 1 if x == 'M' else 0)\n",
    "#A new column 'gender_num' with 1 for Male and 0 for Female has been created\n",
    "\n",
    "male_ratio_by_occupation = users.groupby('occupation')['gender_num'].mean()\n",
    "\n",
    "male_ratio_by_occupation.sort_values(ascending=False, inplace=True)\n",
    "\n",
    "print(male_ratio_by_occupation)"
   ]
  },
  {
   "cell_type": "markdown",
   "id": "42c1f486",
   "metadata": {},
   "source": [
    "<h2><span style=\"color:darkcyan\">STEP 6:</span> <span style=\"color:darkseagreen\">For each occupation, calculate the minimum and maximum ages</span></h2>"
   ]
  },
  {
   "cell_type": "code",
   "execution_count": 6,
   "id": "5476f6a8",
   "metadata": {},
   "outputs": [
    {
     "name": "stdout",
     "output_type": "stream",
     "text": [
      "               min  max\n",
      "occupation             \n",
      "administrator   21   70\n",
      "artist          19   48\n",
      "doctor          28   64\n",
      "educator        23   63\n",
      "engineer        22   70\n",
      "entertainment   15   50\n",
      "executive       22   69\n",
      "healthcare      22   62\n",
      "homemaker       20   50\n",
      "lawyer          21   53\n",
      "librarian       23   69\n",
      "marketing       24   55\n",
      "none            11   55\n",
      "other           13   64\n",
      "programmer      20   63\n",
      "retired         51   73\n",
      "salesman        18   66\n",
      "scientist       23   55\n",
      "student          7   42\n",
      "technician      21   55\n",
      "writer          18   60\n"
     ]
    }
   ],
   "source": [
    "age_range_by_occupation = users.groupby('occupation')['age'].agg(['min', 'max'])\n",
    "\n",
    "print(age_range_by_occupation)"
   ]
  },
  {
   "cell_type": "markdown",
   "id": "eb5ce7d1",
   "metadata": {},
   "source": [
    "<h2><span style=\"color:darkcyan\">STEP 7:</span> <span style=\"color:darkseagreen\">For each combination of occupation and sex, calculate the mean age</span></h2>"
   ]
  },
  {
   "cell_type": "code",
   "execution_count": 7,
   "id": "9983e711",
   "metadata": {},
   "outputs": [
    {
     "name": "stdout",
     "output_type": "stream",
     "text": [
      "occupation     gender\n",
      "administrator  F         40.638889\n",
      "               M         37.162791\n",
      "artist         F         30.307692\n",
      "               M         32.333333\n",
      "doctor         M         43.571429\n",
      "educator       F         39.115385\n",
      "               M         43.101449\n",
      "engineer       F         29.500000\n",
      "               M         36.600000\n",
      "entertainment  F         31.000000\n",
      "               M         29.000000\n",
      "executive      F         44.000000\n",
      "               M         38.172414\n",
      "healthcare     F         39.818182\n",
      "               M         45.400000\n",
      "homemaker      F         34.166667\n",
      "               M         23.000000\n",
      "lawyer         F         39.500000\n",
      "               M         36.200000\n",
      "librarian      F         40.000000\n",
      "               M         40.000000\n",
      "marketing      F         37.200000\n",
      "               M         37.875000\n",
      "none           F         36.500000\n",
      "               M         18.600000\n",
      "other          F         35.472222\n",
      "               M         34.028986\n",
      "programmer     F         32.166667\n",
      "               M         33.216667\n",
      "retired        F         70.000000\n",
      "               M         62.538462\n",
      "salesman       F         27.000000\n",
      "               M         38.555556\n",
      "scientist      F         28.333333\n",
      "               M         36.321429\n",
      "student        F         20.750000\n",
      "               M         22.669118\n",
      "technician     F         38.000000\n",
      "               M         32.961538\n",
      "writer         F         37.631579\n",
      "               M         35.346154\n",
      "Name: age, dtype: float64\n"
     ]
    }
   ],
   "source": [
    "mean_age_by_occupation_gender = users.groupby(['occupation', 'gender'])['age'].mean()\n",
    "\n",
    "print(mean_age_by_occupation_gender)"
   ]
  },
  {
   "cell_type": "markdown",
   "id": "875f1cee",
   "metadata": {},
   "source": [
    "<h2><span style=\"color:darkcyan\">STEP 8:</span> <span style=\"color:darkseagreen\">For each occupation present the percentage of women and men</span></h2>"
   ]
  },
  {
   "cell_type": "code",
   "execution_count": 8,
   "id": "459b0547",
   "metadata": {},
   "outputs": [
    {
     "name": "stdout",
     "output_type": "stream",
     "text": [
      "                     Male     Female\n",
      "occupation                          \n",
      "administrator   54.430380  45.569620\n",
      "artist          53.571429  46.428571\n",
      "doctor         100.000000   0.000000\n",
      "educator        72.631579  27.368421\n",
      "engineer        97.014925   2.985075\n",
      "entertainment   88.888889  11.111111\n",
      "executive       90.625000   9.375000\n",
      "healthcare      31.250000  68.750000\n",
      "homemaker       14.285714  85.714286\n",
      "lawyer          83.333333  16.666667\n",
      "librarian       43.137255  56.862745\n",
      "marketing       61.538462  38.461538\n",
      "none            55.555556  44.444444\n",
      "other           65.714286  34.285714\n",
      "programmer      90.909091   9.090909\n",
      "retired         92.857143   7.142857\n",
      "salesman        75.000000  25.000000\n",
      "scientist       90.322581   9.677419\n",
      "student         69.387755  30.612245\n",
      "technician      96.296296   3.703704\n",
      "writer          57.777778  42.222222\n"
     ]
    }
   ],
   "source": [
    "total_by_occupation = users.groupby('occupation')['gender'].count()\n",
    "\n",
    "male_by_occupation = users.groupby('occupation')['gender_num'].sum()\n",
    "\n",
    "percentage_by_occupation = (male_by_occupation / total_by_occupation) * 100\n",
    "percentage_by_occupation = pd.concat([percentage_by_occupation, 100-percentage_by_occupation], axis=1)\n",
    "percentage_by_occupation.columns = ['Male', 'Female']\n",
    "\n",
    "print(percentage_by_occupation)"
   ]
  },
  {
   "cell_type": "markdown",
   "id": "1e247a5b",
   "metadata": {},
   "source": [
    "<h1 style=\"color:mediumslateblue\">QUESTION 2: EURO TEAMS</h1>"
   ]
  },
  {
   "cell_type": "markdown",
   "id": "c201f0eb",
   "metadata": {},
   "source": [
    "<h2><span style=\"color:darkcyan\">STEP 1:</span> <span style=\"color:darkseagreen\">Import the necessary libraries</span></h2>"
   ]
  },
  {
   "cell_type": "code",
   "execution_count": 9,
   "id": "c500476f",
   "metadata": {},
   "outputs": [],
   "source": [
    "import pandas as pd\n",
    "import numpy as np"
   ]
  },
  {
   "cell_type": "markdown",
   "id": "c3d0a13f",
   "metadata": {},
   "source": [
    "<h2><span style=\"color:darkcyan\">STEP 2:</span> <span style=\"color:darkseagreen\">Import the dataset from this</span> <span style=\"color:thisle\"><a href=\"https://raw.githubusercontent.com/guipsamora/pandas_exercises/master/02_Filtering_%26_Sorting/Euro12/Euro_2012_stats_TEAM.csv\">address</a></span></h2>"
   ]
  },
  {
   "cell_type": "code",
   "execution_count": 10,
   "id": "aef53726",
   "metadata": {},
   "outputs": [],
   "source": [
    "url = 'https://raw.githubusercontent.com/guipsamora/pandas_exercises/master/02_Filtering_%26_Sorting/Euro12/Euro_2012_stats_TEAM.csv'\n",
    "euro12 = pd.read_csv(url)"
   ]
  },
  {
   "cell_type": "markdown",
   "id": "1939fc4c",
   "metadata": {},
   "source": [
    "<h2><span style=\"color:darkcyan\">STEP 3:</span> <span style=\"color:darkseagreen\">Assign it to a variable called euro12</span></h2>"
   ]
  },
  {
   "cell_type": "code",
   "execution_count": 11,
   "id": "f1f66999",
   "metadata": {},
   "outputs": [],
   "source": [
    "euro12 = pd.read_csv(url)"
   ]
  },
  {
   "cell_type": "markdown",
   "id": "ac15b3c8",
   "metadata": {},
   "source": [
    "<h2><span style=\"color:darkcyan\">STEP 4:</span> <span style=\"color:darkseagreen\">Select only the Goal column</span></h2>"
   ]
  },
  {
   "cell_type": "code",
   "execution_count": 12,
   "id": "4c6f0775",
   "metadata": {},
   "outputs": [
    {
     "name": "stdout",
     "output_type": "stream",
     "text": [
      "0      4\n",
      "1      4\n",
      "2      4\n",
      "3      5\n",
      "4      3\n",
      "5     10\n",
      "6      5\n",
      "7      6\n",
      "8      2\n",
      "9      2\n",
      "10     6\n",
      "11     1\n",
      "12     5\n",
      "13    12\n",
      "14     5\n",
      "15     2\n",
      "Name: Goals, dtype: int64\n"
     ]
    }
   ],
   "source": [
    "goals = euro12['Goals']\n",
    "print(goals)"
   ]
  },
  {
   "cell_type": "markdown",
   "id": "cdba9247",
   "metadata": {},
   "source": [
    "<h2><span style=\"color:darkcyan\">STEP 5:</span> <span style=\"color:darkseagreen\">How many team participated in the Euro2012?</span></h2>"
   ]
  },
  {
   "cell_type": "code",
   "execution_count": 13,
   "id": "9a6a6f73",
   "metadata": {},
   "outputs": [
    {
     "name": "stdout",
     "output_type": "stream",
     "text": [
      "16\n"
     ]
    }
   ],
   "source": [
    "num_teams = euro12['Team'].nunique()\n",
    "print(num_teams)"
   ]
  },
  {
   "cell_type": "markdown",
   "id": "789cdd57",
   "metadata": {},
   "source": [
    "<h2><span style=\"color:darkcyan\">STEP 6:</span> <span style=\"color:darkseagreen\">What is the number of columns in the dataset?</span></h2>"
   ]
  },
  {
   "cell_type": "code",
   "execution_count": 14,
   "id": "03d685d0",
   "metadata": {},
   "outputs": [
    {
     "name": "stdout",
     "output_type": "stream",
     "text": [
      "35\n"
     ]
    }
   ],
   "source": [
    "num_columns = euro12.shape[1]\n",
    "print(num_columns)"
   ]
  },
  {
   "cell_type": "markdown",
   "id": "d14df2a0",
   "metadata": {},
   "source": [
    "<h2><span style=\"color:darkcyan\">STEP 7:</span> <span style=\"color:darkseagreen\">View only the columns Team, Yellow Cards and Red Cards and assign them\n",
    "to a dataframe called discipline</span></h2>"
   ]
  },
  {
   "cell_type": "code",
   "execution_count": 15,
   "id": "2375f11f",
   "metadata": {},
   "outputs": [
    {
     "name": "stdout",
     "output_type": "stream",
     "text": [
      "                   Team  Yellow Cards  Red Cards\n",
      "0               Croatia             9          0\n",
      "1        Czech Republic             7          0\n",
      "2               Denmark             4          0\n",
      "3               England             5          0\n",
      "4                France             6          0\n",
      "5               Germany             4          0\n",
      "6                Greece             9          1\n",
      "7                 Italy            16          0\n",
      "8           Netherlands             5          0\n",
      "9                Poland             7          1\n",
      "10             Portugal            12          0\n",
      "11  Republic of Ireland             6          1\n",
      "12               Russia             6          0\n",
      "13                Spain            11          0\n",
      "14               Sweden             7          0\n",
      "15              Ukraine             5          0\n"
     ]
    }
   ],
   "source": [
    "discipline = euro12[['Team', 'Yellow Cards', 'Red Cards']]\n",
    "print(discipline)"
   ]
  },
  {
   "cell_type": "markdown",
   "id": "48a7c7d2",
   "metadata": {},
   "source": [
    "<h2><span style=\"color:darkcyan\">STEP 8:</span> <span style=\"color:darkseagreen\">Sort the teams by Red Cards, then to Yellow Cards</span></h2>"
   ]
  },
  {
   "cell_type": "code",
   "execution_count": 16,
   "id": "33880e33",
   "metadata": {},
   "outputs": [
    {
     "name": "stdout",
     "output_type": "stream",
     "text": [
      "                   Team  Yellow Cards  Red Cards\n",
      "6                Greece             9          1\n",
      "9                Poland             7          1\n",
      "11  Republic of Ireland             6          1\n",
      "7                 Italy            16          0\n",
      "10             Portugal            12          0\n",
      "13                Spain            11          0\n",
      "0               Croatia             9          0\n",
      "1        Czech Republic             7          0\n",
      "14               Sweden             7          0\n",
      "4                France             6          0\n",
      "12               Russia             6          0\n",
      "3               England             5          0\n",
      "8           Netherlands             5          0\n",
      "15              Ukraine             5          0\n",
      "2               Denmark             4          0\n",
      "5               Germany             4          0\n"
     ]
    }
   ],
   "source": [
    "discipline = discipline.sort_values(['Red Cards', 'Yellow Cards'], ascending=False)\n",
    "print(discipline)"
   ]
  },
  {
   "cell_type": "markdown",
   "id": "fdacca42",
   "metadata": {},
   "source": [
    "<h2><span style=\"color:darkcyan\">STEP 9:</span> <span style=\"color:darkseagreen\">Calculate the mean Yellow Cards given per Team</span></h2>"
   ]
  },
  {
   "cell_type": "code",
   "execution_count": 17,
   "id": "72b85a4a",
   "metadata": {},
   "outputs": [
    {
     "name": "stdout",
     "output_type": "stream",
     "text": [
      "7.4375\n"
     ]
    }
   ],
   "source": [
    "mean_yellow_cards = euro12['Yellow Cards'].mean()\n",
    "print(mean_yellow_cards)"
   ]
  },
  {
   "cell_type": "markdown",
   "id": "bd4e94cf",
   "metadata": {},
   "source": [
    "<h2><span style=\"color:darkcyan\">STEP 10:</span> <span style=\"color:darkseagreen\">Filter teams that scored more than 6 goalsStep</span></h2>"
   ]
  },
  {
   "cell_type": "code",
   "execution_count": 18,
   "id": "5e14946d",
   "metadata": {},
   "outputs": [
    {
     "name": "stdout",
     "output_type": "stream",
     "text": [
      "5     Germany\n",
      "13      Spain\n",
      "Name: Team, dtype: object\n"
     ]
    }
   ],
   "source": [
    "high_scoring_teams = euro12[euro12['Goals'] > 6]['Team']\n",
    "print(high_scoring_teams)"
   ]
  },
  {
   "cell_type": "markdown",
   "id": "9600090d",
   "metadata": {},
   "source": [
    "<h2><span style=\"color:darkcyan\">STEP 11:</span> <span style=\"color:darkseagreen\">Select the teams that start\n",
    "with G</span></h2>"
   ]
  },
  {
   "cell_type": "code",
   "execution_count": 19,
   "id": "2a10c33f",
   "metadata": {},
   "outputs": [
    {
     "name": "stdout",
     "output_type": "stream",
     "text": [
      "      Team  Goals  Shots on target  Shots off target Shooting Accuracy  \\\n",
      "5  Germany     10               32                32             47.8%   \n",
      "6   Greece      5                8                18             30.7%   \n",
      "\n",
      "  % Goals-to-shots  Total shots (inc. Blocked)  Hit Woodwork  Penalty goals  \\\n",
      "5            15.6%                          80             2              1   \n",
      "6            19.2%                          32             1              1   \n",
      "\n",
      "   Penalties not scored  ...  Saves made  Saves-to-shots ratio  Fouls Won  \\\n",
      "5                     0  ...          10                 62.6%         63   \n",
      "6                     1  ...          13                 65.1%         67   \n",
      "\n",
      "  Fouls Conceded  Offsides  Yellow Cards  Red Cards  Subs on  Subs off  \\\n",
      "5             49        12             4          0       15        15   \n",
      "6             48        12             9          1       12        12   \n",
      "\n",
      "   Players Used  \n",
      "5            17  \n",
      "6            20  \n",
      "\n",
      "[2 rows x 35 columns]\n"
     ]
    }
   ],
   "source": [
    "g_teams = euro12[euro12['Team'].str.startswith('G')]\n",
    "print(g_teams)\n",
    "#To generate a table-format output without assigning the 'g_teams' variable, one can directly write the code."
   ]
  },
  {
   "cell_type": "markdown",
   "id": "6a90d5d9",
   "metadata": {},
   "source": [
    "<h2><span style=\"color:darkcyan\">STEP 12:</span> <span style=\"color:darkseagreen\"> Select the first 7 columns</span></h2>"
   ]
  },
  {
   "cell_type": "code",
   "execution_count": 20,
   "id": "e12e8f7b",
   "metadata": {},
   "outputs": [
    {
     "name": "stdout",
     "output_type": "stream",
     "text": [
      "                   Team  Goals  Shots on target  Shots off target  \\\n",
      "0               Croatia      4               13                12   \n",
      "1        Czech Republic      4               13                18   \n",
      "2               Denmark      4               10                10   \n",
      "3               England      5               11                18   \n",
      "4                France      3               22                24   \n",
      "5               Germany     10               32                32   \n",
      "6                Greece      5                8                18   \n",
      "7                 Italy      6               34                45   \n",
      "8           Netherlands      2               12                36   \n",
      "9                Poland      2               15                23   \n",
      "10             Portugal      6               22                42   \n",
      "11  Republic of Ireland      1                7                12   \n",
      "12               Russia      5                9                31   \n",
      "13                Spain     12               42                33   \n",
      "14               Sweden      5               17                19   \n",
      "15              Ukraine      2                7                26   \n",
      "\n",
      "   Shooting Accuracy % Goals-to-shots  Total shots (inc. Blocked)  \n",
      "0              51.9%            16.0%                          32  \n",
      "1              41.9%            12.9%                          39  \n",
      "2              50.0%            20.0%                          27  \n",
      "3              50.0%            17.2%                          40  \n",
      "4              37.9%             6.5%                          65  \n",
      "5              47.8%            15.6%                          80  \n",
      "6              30.7%            19.2%                          32  \n",
      "7              43.0%             7.5%                         110  \n",
      "8              25.0%             4.1%                          60  \n",
      "9              39.4%             5.2%                          48  \n",
      "10             34.3%             9.3%                          82  \n",
      "11             36.8%             5.2%                          28  \n",
      "12             22.5%            12.5%                          59  \n",
      "13             55.9%            16.0%                         100  \n",
      "14             47.2%            13.8%                          39  \n",
      "15             21.2%             6.0%                          38  \n"
     ]
    }
   ],
   "source": [
    "first_seven_columns = euro12.iloc[:, :7]\n",
    "print(first_seven_columns)\n",
    "#To generate a table-format output without assigning the 'first_seven_columns' variable, one can directly write the code."
   ]
  },
  {
   "cell_type": "markdown",
   "id": "abe6c112",
   "metadata": {},
   "source": [
    "<h2><span style=\"color:darkcyan\">STEP 13:</span> <span style=\"color:darkseagreen\">Select all columns except the last 3</span></h2>"
   ]
  },
  {
   "cell_type": "code",
   "execution_count": 21,
   "id": "7338c41d",
   "metadata": {},
   "outputs": [
    {
     "name": "stdout",
     "output_type": "stream",
     "text": [
      "                   Team  Goals  Shots on target  Shots off target  \\\n",
      "0               Croatia      4               13                12   \n",
      "1        Czech Republic      4               13                18   \n",
      "2               Denmark      4               10                10   \n",
      "3               England      5               11                18   \n",
      "4                France      3               22                24   \n",
      "5               Germany     10               32                32   \n",
      "6                Greece      5                8                18   \n",
      "7                 Italy      6               34                45   \n",
      "8           Netherlands      2               12                36   \n",
      "9                Poland      2               15                23   \n",
      "10             Portugal      6               22                42   \n",
      "11  Republic of Ireland      1                7                12   \n",
      "12               Russia      5                9                31   \n",
      "13                Spain     12               42                33   \n",
      "14               Sweden      5               17                19   \n",
      "15              Ukraine      2                7                26   \n",
      "\n",
      "   Shooting Accuracy % Goals-to-shots  Total shots (inc. Blocked)  \\\n",
      "0              51.9%            16.0%                          32   \n",
      "1              41.9%            12.9%                          39   \n",
      "2              50.0%            20.0%                          27   \n",
      "3              50.0%            17.2%                          40   \n",
      "4              37.9%             6.5%                          65   \n",
      "5              47.8%            15.6%                          80   \n",
      "6              30.7%            19.2%                          32   \n",
      "7              43.0%             7.5%                         110   \n",
      "8              25.0%             4.1%                          60   \n",
      "9              39.4%             5.2%                          48   \n",
      "10             34.3%             9.3%                          82   \n",
      "11             36.8%             5.2%                          28   \n",
      "12             22.5%            12.5%                          59   \n",
      "13             55.9%            16.0%                         100   \n",
      "14             47.2%            13.8%                          39   \n",
      "15             21.2%             6.0%                          38   \n",
      "\n",
      "    Hit Woodwork  Penalty goals  Penalties not scored  ...  Clean Sheets  \\\n",
      "0              0              0                     0  ...             0   \n",
      "1              0              0                     0  ...             1   \n",
      "2              1              0                     0  ...             1   \n",
      "3              0              0                     0  ...             2   \n",
      "4              1              0                     0  ...             1   \n",
      "5              2              1                     0  ...             1   \n",
      "6              1              1                     1  ...             1   \n",
      "7              2              0                     0  ...             2   \n",
      "8              2              0                     0  ...             0   \n",
      "9              0              0                     0  ...             0   \n",
      "10             6              0                     0  ...             2   \n",
      "11             0              0                     0  ...             0   \n",
      "12             2              0                     0  ...             0   \n",
      "13             0              1                     0  ...             5   \n",
      "14             3              0                     0  ...             1   \n",
      "15             0              0                     0  ...             0   \n",
      "\n",
      "    Blocks  Goals conceded Saves made  Saves-to-shots ratio  Fouls Won  \\\n",
      "0       10               3         13                 81.3%         41   \n",
      "1       10               6          9                 60.1%         53   \n",
      "2       10               5         10                 66.7%         25   \n",
      "3       29               3         22                 88.1%         43   \n",
      "4        7               5          6                 54.6%         36   \n",
      "5       11               6         10                 62.6%         63   \n",
      "6       23               7         13                 65.1%         67   \n",
      "7       18               7         20                 74.1%        101   \n",
      "8        9               5         12                 70.6%         35   \n",
      "9        8               3          6                 66.7%         48   \n",
      "10      11               4         10                 71.5%         73   \n",
      "11      23               9         17                 65.4%         43   \n",
      "12       8               3         10                 77.0%         34   \n",
      "13       8               1         15                 93.8%        102   \n",
      "14      12               5          8                 61.6%         35   \n",
      "15       4               4         13                 76.5%         48   \n",
      "\n",
      "    Fouls Conceded  Offsides  Yellow Cards  Red Cards  \n",
      "0               62         2             9          0  \n",
      "1               73         8             7          0  \n",
      "2               38         8             4          0  \n",
      "3               45         6             5          0  \n",
      "4               51         5             6          0  \n",
      "5               49        12             4          0  \n",
      "6               48        12             9          1  \n",
      "7               89        16            16          0  \n",
      "8               30         3             5          0  \n",
      "9               56         3             7          1  \n",
      "10              90        10            12          0  \n",
      "11              51        11             6          1  \n",
      "12              43         4             6          0  \n",
      "13              83        19            11          0  \n",
      "14              51         7             7          0  \n",
      "15              31         4             5          0  \n",
      "\n",
      "[16 rows x 32 columns]\n"
     ]
    }
   ],
   "source": [
    "all_except_last_three_columns = euro12.iloc[:, :-3]\n",
    "print(all_except_last_three_columns)\n",
    "#To generate a table-format output without assigning the 'all_except_last_three_columns' variable, one can directly write the code."
   ]
  },
  {
   "cell_type": "markdown",
   "id": "1662afec",
   "metadata": {},
   "source": [
    "<h2><span style=\"color:darkcyan\">STEP 14:</span> <span style=\"color:darkseagreen\">Present only the Shooting Accuracy from England, Italy and Russia</span></h2>"
   ]
  },
  {
   "cell_type": "code",
   "execution_count": 22,
   "id": "d48bd1be",
   "metadata": {},
   "outputs": [
    {
     "name": "stdout",
     "output_type": "stream",
     "text": [
      "       Team Shooting Accuracy\n",
      "3   England             50.0%\n",
      "7     Italy             43.0%\n",
      "12   Russia             22.5%\n"
     ]
    }
   ],
   "source": [
    "accuracy = euro12.loc[euro12['Team'].isin(['England', 'Italy', 'Russia']), ['Team', 'Shooting Accuracy']]\n",
    "print(accuracy)"
   ]
  },
  {
   "cell_type": "markdown",
   "id": "d3038575",
   "metadata": {},
   "source": [
    "<h1 style=\"color:mediumslateblue\">QUESTION 3: HOUSING</h1>"
   ]
  },
  {
   "cell_type": "markdown",
   "id": "c26ac3f4",
   "metadata": {},
   "source": [
    "<h2><span style=\"color:darkcyan\">STEP 1:</span> <span style=\"color:darkseagreen\">Import the necessary libraries</span></h2>"
   ]
  },
  {
   "cell_type": "code",
   "execution_count": 23,
   "id": "9373d65b",
   "metadata": {},
   "outputs": [],
   "source": [
    "import pandas as pd\n",
    "import numpy as np"
   ]
  },
  {
   "cell_type": "markdown",
   "id": "163897de",
   "metadata": {},
   "source": [
    "<h2><span style=\"color:darkcyan\">STEP 2:</span> <span style=\"color:darkseagreen\">Create 3 differents Series, each of length 100</span></h2>"
   ]
  },
  {
   "cell_type": "code",
   "execution_count": 24,
   "id": "7bc759d2",
   "metadata": {},
   "outputs": [
    {
     "name": "stdout",
     "output_type": "stream",
     "text": [
      "0    4\n",
      "1    2\n",
      "2    3\n",
      "3    1\n",
      "4    2\n",
      "dtype: int32\n",
      "0    3\n",
      "1    1\n",
      "2    2\n",
      "3    2\n",
      "4    1\n",
      "dtype: int32\n",
      "0    22337\n",
      "1    12534\n",
      "2    14644\n",
      "3    20612\n",
      "4    15744\n",
      "dtype: int32\n"
     ]
    }
   ],
   "source": [
    "series_1 = pd.Series(np.random.randint(1, 5, 100))\n",
    "print(series_1.head())\n",
    "series_2 = pd.Series(np.random.randint(1, 4, 100))\n",
    "print(series_2.head())\n",
    "series_3 = pd.Series(np.random.randint(10000, 30001, 100))\n",
    "print(series_3.head())"
   ]
  },
  {
   "cell_type": "markdown",
   "id": "9237aca6",
   "metadata": {},
   "source": [
    "<h2><span style=\"color:darkcyan\">STEP 3:</span> <span style=\"color:darkseagreen\">Create a DataFrame by joinning the Series by column</span></h2>"
   ]
  },
  {
   "cell_type": "code",
   "execution_count": 25,
   "id": "9e18a741",
   "metadata": {},
   "outputs": [
    {
     "name": "stdout",
     "output_type": "stream",
     "text": [
      "   0  1      2\n",
      "0  4  3  22337\n",
      "1  2  1  12534\n",
      "2  3  2  14644\n",
      "3  1  2  20612\n",
      "4  2  1  15744\n"
     ]
    }
   ],
   "source": [
    "df = pd.concat([series_1, series_2, series_3], axis=1)\n",
    "print(df.head())"
   ]
  },
  {
   "cell_type": "markdown",
   "id": "3987dbbf",
   "metadata": {},
   "source": [
    "<h2><span style=\"color:darkcyan\">STEP 4:</span> <span style=\"color:darkseagreen\">Change the name of the columns to bedrs, bathrs, price_sqr_meter</span></h2>"
   ]
  },
  {
   "cell_type": "code",
   "execution_count": 26,
   "id": "1a45b613",
   "metadata": {},
   "outputs": [
    {
     "name": "stdout",
     "output_type": "stream",
     "text": [
      "   bedrs  bathrs  price_sqr_meter\n",
      "0      4       3            22337\n",
      "1      2       1            12534\n",
      "2      3       2            14644\n",
      "3      1       2            20612\n",
      "4      2       1            15744\n"
     ]
    }
   ],
   "source": [
    "df.columns = ['bedrs', 'bathrs', 'price_sqr_meter']\n",
    "print(df.head())"
   ]
  },
  {
   "cell_type": "markdown",
   "id": "162804f0",
   "metadata": {},
   "source": [
    "<h2><span style=\"color:darkcyan\">STEP 5:</span> <span style=\"color:darkseagreen\">Create a one column DataFrame with the values of the 3 Series and assign it\n",
    "to 'bigcolumn'</span></h2>"
   ]
  },
  {
   "cell_type": "code",
   "execution_count": 27,
   "id": "1dd23fd5",
   "metadata": {},
   "outputs": [
    {
     "name": "stdout",
     "output_type": "stream",
     "text": [
      "   0\n",
      "0  4\n",
      "1  2\n",
      "2  3\n",
      "3  1\n",
      "4  2\n"
     ]
    }
   ],
   "source": [
    "bigcolumn = pd.concat([series_1, series_2, series_3], ignore_index=True)\n",
    "bigcolumn = pd.DataFrame(bigcolumn)\n",
    "print(bigcolumn.head())"
   ]
  },
  {
   "cell_type": "markdown",
   "id": "75284dff",
   "metadata": {},
   "source": [
    "<h2><span style=\"color:darkcyan\">STEP 6:</span> <span style=\"color:darkseagreen\">Oops it seems it is going only until index 99. Is it true?</span></h2>"
   ]
  },
  {
   "cell_type": "code",
   "execution_count": 28,
   "id": "f062f20a",
   "metadata": {},
   "outputs": [
    {
     "name": "stdout",
     "output_type": "stream",
     "text": [
      "False\n"
     ]
    }
   ],
   "source": [
    "print(len(bigcolumn) == 100)"
   ]
  },
  {
   "cell_type": "markdown",
   "id": "5a332413",
   "metadata": {},
   "source": [
    "<h2><span style=\"color:darkcyan\">STEP 7:</span> <span style=\"color:darkseagreen\">Reindex the DataFrame so it goes from 0 to 299</span></h2>"
   ]
  },
  {
   "cell_type": "code",
   "execution_count": 29,
   "id": "a94587a6",
   "metadata": {},
   "outputs": [
    {
     "name": "stdout",
     "output_type": "stream",
     "text": [
      "   0\n",
      "0  4\n",
      "1  2\n",
      "2  3\n",
      "3  1\n",
      "4  2\n"
     ]
    }
   ],
   "source": [
    "bigcolumn = pd.concat([series_1, series_2, series_3], ignore_index=True)\n",
    "bigcolumn = pd.DataFrame(bigcolumn)\n",
    "bigcolumn = bigcolumn.reset_index(drop=True)\n",
    "print(bigcolumn.head())"
   ]
  },
  {
   "cell_type": "markdown",
   "id": "4fc811cd",
   "metadata": {},
   "source": [
    "<h1 style=\"color:mediumslateblue\">QUESTION 4: WIND STATISTICS</h1>"
   ]
  },
  {
   "cell_type": "markdown",
   "id": "d4c49b3a",
   "metadata": {},
   "source": [
    "<h2 style=\"color:darkcyan\">STEP 1 to STEP 15</h2>"
   ]
  },
  {
   "cell_type": "code",
   "execution_count": 30,
   "id": "003dedfb",
   "metadata": {},
   "outputs": [
    {
     "name": "stdout",
     "output_type": "stream",
     "text": [
      "Missing Values for each location:\n",
      " RPT    6\n",
      "VAL    3\n",
      "ROS    2\n",
      "KIL    5\n",
      "SHA    2\n",
      "BIR    0\n",
      "DUB    3\n",
      "CLA    2\n",
      "MUL    3\n",
      "CLO    1\n",
      "BEL    0\n",
      "MAL    4\n",
      "dtype: int64\n",
      "\n",
      "Total number of non-missing values: 78857\n",
      "\n",
      "Mean windspeed over all the locations and all the times: 10.227982360836924\n",
      "\n",
      "Location Statistics:\n",
      "       min    max       mean       std\n",
      "RPT  0.67  35.80  12.362987  5.618413\n",
      "VAL  0.21  33.37  10.644314  5.267356\n",
      "ROS  1.50  33.84  11.660526  5.008450\n",
      "KIL  0.00  28.46   6.306468  3.605811\n",
      "SHA  0.13  37.54  10.455834  4.936125\n",
      "BIR  0.00  26.16   7.092254  3.968683\n",
      "DUB  0.00  30.37   9.797343  4.977555\n",
      "CLA  0.00  31.08   8.495053  4.499449\n",
      "MUL  0.00  25.88   8.493590  4.166872\n",
      "CLO  0.04  28.21   8.707332  4.503954\n",
      "BEL  0.13  42.38  13.121007  5.835037\n",
      "MAL  0.67  42.54  15.599079  6.699794\n",
      "\n",
      "Day Statistics:\n",
      "              min    max       mean       std\n",
      "date                                        \n",
      "2061-01-01  9.29  18.50  13.018182  2.808875\n",
      "2061-01-02  6.50  17.54  11.336364  3.188994\n",
      "2061-01-03  6.17  18.50  11.641818  3.681912\n",
      "2061-01-04  1.79  11.75   6.619167  3.198126\n",
      "2061-01-05  6.17  13.33  10.630000  2.445356\n",
      "...          ...    ...        ...       ...\n",
      "1978-12-27  8.08  40.08  16.708333  7.868076\n",
      "1978-12-28  5.00  41.46  15.150000  9.687857\n",
      "1978-12-29  8.71  29.58  14.890000  5.756836\n",
      "1978-12-30  9.13  28.79  15.367500  5.540437\n",
      "1978-12-31  9.59  27.29  15.402500  5.702483\n",
      "\n",
      "[6574 rows x 4 columns]\n",
      "\n",
      "Average windspeed in January for each location:\n",
      " RPT    14.847325\n",
      "VAL    12.914560\n",
      "ROS    13.299624\n",
      "KIL     7.199498\n",
      "SHA    11.667734\n",
      "BIR     8.054839\n",
      "DUB    11.819355\n",
      "CLA     9.512047\n",
      "MUL     9.543208\n",
      "CLO    10.053566\n",
      "BEL    14.550520\n",
      "MAL    18.028763\n",
      "dtype: float64\n",
      "\n",
      "Yearly Frequency for each location:\n",
      "                   RPT        VAL        ROS       KIL        SHA       BIR  \\\n",
      "date                                                                         \n",
      "1970-12-31  12.600329  10.726932  11.730247  6.217178  10.567370  7.609452   \n",
      "1971-12-31  11.273123   9.095178  11.088329  5.241507   9.440329  6.097151   \n",
      "1972-12-31  12.463962  10.561311  12.058333  5.929699   9.430410  6.358825   \n",
      "1973-12-31  11.828466  10.680493  10.680493  5.547863   9.640877  6.548740   \n",
      "1974-12-31  13.643096  11.811781  12.336356  6.427041  11.110986  6.809781   \n",
      "...               ...        ...        ...       ...        ...       ...   \n",
      "2065-12-31  12.451370  11.075534  11.848767  6.858466  11.024795  7.478110   \n",
      "2066-12-31  13.461973  11.557205  12.020630  7.345726  11.805041  7.793671   \n",
      "2067-12-31  12.737151  10.990986  11.739397  7.143425  11.630740  7.368164   \n",
      "2068-12-31  11.835628  10.468197  11.409754  6.477678  10.760765  6.067322   \n",
      "2069-12-31  11.166356   9.723699  10.902000  5.767973   9.873918  6.189973   \n",
      "\n",
      "                  DUB       CLA       MUL       CLO        BEL        MAL  \n",
      "date                                                                       \n",
      "1970-12-31   9.609890  8.334630  9.297616  8.289808  13.183644  16.456027  \n",
      "1971-12-31   8.385890  6.757315  7.915370  7.229753  12.208932  15.025233  \n",
      "1972-12-31   9.704508  7.680792  8.357295  7.515273  12.727377  15.028716  \n",
      "1973-12-31   8.482110  7.614274  8.245534  7.812411  12.169699  15.441096  \n",
      "1974-12-31  10.084603  9.896986  9.331753  8.736356  13.252959  16.947671  \n",
      "...               ...       ...       ...       ...        ...        ...  \n",
      "2065-12-31  10.618712  8.879918  7.907425  9.918082  12.964247  15.591644  \n",
      "2066-12-31  10.579808  8.835096  8.514438  9.768959  14.265836  16.307260  \n",
      "2067-12-31  10.652027  9.325616  8.645014  9.547425  14.774548  17.135945  \n",
      "2068-12-31   8.859180  8.255519  7.224945  7.832978  12.808634  15.017486  \n",
      "2069-12-31   8.564493  7.711397  7.924521  7.754384  12.621233  15.762904  \n",
      "\n",
      "[100 rows x 12 columns]\n",
      "\n",
      "Monthly Frequency for each location:\n",
      "                   RPT        VAL        ROS       KIL        SHA       BIR  \\\n",
      "date                                                                         \n",
      "1970-01-31  13.152581  11.731935  13.083871  5.810968   9.507742  8.040323   \n",
      "1970-02-28  14.820714  13.776071  12.643929  6.894643  11.923929  7.954643   \n",
      "1970-03-31  14.941613  11.496129  13.180968  7.494194  11.484194  8.242581   \n",
      "1970-04-30  14.733333  11.843667  12.711333  7.316667  10.938333  8.707333   \n",
      "1970-05-31  10.185161   9.154194   9.720323  5.639677  10.465484  7.879355   \n",
      "...               ...        ...        ...       ...        ...       ...   \n",
      "2069-08-31  11.567419   9.656774   9.192581  5.661935   9.667097  6.407097   \n",
      "2069-09-30   8.544333   7.146000  10.698000  4.161667   8.561333  4.934000   \n",
      "2069-10-31  10.640968  10.424194  10.522581  5.803548  11.545161  7.075484   \n",
      "2069-11-30  12.462000  11.430667  12.141333  5.499667   9.828667  6.710000   \n",
      "2069-12-31  13.335806  11.969032  12.433226  5.446129   9.766129  7.532581   \n",
      "\n",
      "                  DUB        CLA        MUL        CLO        BEL        MAL  \n",
      "date                                                                          \n",
      "1970-01-31   9.843226   8.834194   8.407097   7.626452  12.403871  17.192903  \n",
      "1970-02-28  11.837857   9.223214  10.339643   8.415357  14.899643  18.016786  \n",
      "1970-03-31  12.160968  10.082581  10.936774   9.710645  15.041290  19.093226  \n",
      "1970-04-30  11.171667   9.249667  10.004333  10.178333  13.237000  16.899667  \n",
      "1970-05-31   8.982258   8.938387   9.251935   8.784516  13.989355  15.335161  \n",
      "...               ...        ...        ...        ...        ...        ...  \n",
      "2069-08-31   7.070323   6.366452   7.568065   7.800323  11.952258  13.715161  \n",
      "2069-09-30   7.120333   6.839000   6.089333   6.203333  11.665000  14.972333  \n",
      "2069-10-31   8.483871   9.713226   8.495806   8.717419  15.348387  17.298710  \n",
      "2069-11-30  10.166333   8.304667   8.458000   7.864667  14.758667  20.094667  \n",
      "2069-12-31  10.076774   8.656774   8.801935   7.603226  13.511613  17.707097  \n",
      "\n",
      "[1200 rows x 12 columns]\n",
      "\n",
      "Weekly Frequency for each location:\n",
      "                   RPT        VAL        ROS       KIL        SHA        BIR  \\\n",
      "date                                                                          \n",
      "1970-01-04   9.470000   5.522500  10.457500  3.427500   4.927500   3.855000   \n",
      "1970-01-11  12.762857   9.290000  12.945714  4.941429   7.840000   7.380000   \n",
      "1970-01-18  12.484286  12.530000  11.857143  5.470000  10.005714   8.081429   \n",
      "1970-01-25  16.440000  15.818571  15.154286  8.298571  12.118571  10.454286   \n",
      "1970-02-01  14.302857  14.274286  14.557143  6.988571  12.147143   9.690000   \n",
      "...               ...        ...        ...       ...        ...        ...   \n",
      "2069-12-08  15.214286  13.148571  11.685714  7.081429  10.982857   7.387143   \n",
      "2069-12-15  12.440000  12.065714  10.120000  4.037143   9.827143   7.028571   \n",
      "2069-12-22  12.827143  11.578571  14.242857  6.250000   9.952857   9.084286   \n",
      "2069-12-29  12.821429  11.220000  10.702857  3.958571   8.088571   6.430000   \n",
      "2070-01-05  15.335000  13.540000  25.565000  7.560000  11.060000   9.085000   \n",
      "\n",
      "                  DUB        CLA        MUL        CLO        BEL        MAL  \n",
      "date                                                                          \n",
      "1970-01-04   7.907500   5.085000   6.387500   4.437500   9.405000  15.937500  \n",
      "1970-01-11  10.571429   7.515714   8.192857   6.315714   9.547143  15.998571  \n",
      "1970-01-18   9.468571   8.950000   8.120000   7.671429  11.612857  17.060000  \n",
      "1970-01-25  10.462857  11.958571  10.462857  11.071429  17.802857  20.201429  \n",
      "1970-02-01  11.177143  10.280000   9.251429   8.727143  14.034286  17.355714  \n",
      "...               ...        ...        ...        ...        ...        ...  \n",
      "2069-12-08  10.588571   9.768571  10.441429   8.128571  13.918571  18.571429  \n",
      "2069-12-15   8.674286   7.338571   7.328571   6.977143  14.597143  15.522857  \n",
      "2069-12-22  11.892857   9.522857  10.065714   9.082857  14.094286  20.238571  \n",
      "2069-12-29   7.708571   7.564286   6.375714   5.875714  12.071429  14.738571  \n",
      "2070-01-05  15.685000  11.210000  12.230000   9.270000  11.335000  22.625000  \n",
      "\n",
      "[5219 rows x 12 columns]\n",
      "Weekly Stats for the First 52 Weeks of Data:\n",
      "Empty DataFrame\n",
      "Columns: [min, max, mean, std]\n",
      "Index: []\n"
     ]
    }
   ],
   "source": [
    "# Step 1: Import the necessary libraries\n",
    "import pandas as pd\n",
    "import numpy as np\n",
    "\n",
    "# Step 2: Import the dataset from the attached file wind.txt\n",
    "data = pd.read_csv('wind.txt', delim_whitespace=True, na_values='NaN')\n",
    "\n",
    "# Step 3: Assign it to a variable called data and replace the first 3 columns by a proper datetime index.\n",
    "data['date'] = data[['Yr', 'Mo', 'Dy']].apply(lambda x: '{:02d}{:02d}{:02d}'.format(x[0],x[1],x[2]), axis=1)\n",
    "data.drop(columns=['Yr', 'Mo', 'Dy'], inplace=True)\n",
    "data.set_index('date', inplace=True)\n",
    "\n",
    "# Step 4: Fix the year in the datetime index\n",
    "data.index = pd.to_datetime(data.index, format='%y%m%d')\n",
    "data.index = data.index.map(lambda date: date.replace(year=date.year + 100) if date.year < 1970 else date)\n",
    "\n",
    "# Step 5: Set the right dates as the index.\n",
    "data.index = pd.to_datetime(data.index)\n",
    "\n",
    "# Step 6: Compute how many values are missing for each location over the entire record.\n",
    "missing_values = data.isna().sum()\n",
    "print(\"Missing Values for each location:\\n\", missing_values)\n",
    "\n",
    "# Step 7: Compute how many non-missing values there are in total.\n",
    "non_missing_values = data.notna().sum().sum()\n",
    "print(\"\\nTotal number of non-missing values:\", non_missing_values)\n",
    "\n",
    "# Step 8: Calculate the mean windspeeds of the windspeeds over all the locations and all the times.\n",
    "mean_windspeed = data.mean().mean()\n",
    "print(\"\\nMean windspeed over all the locations and all the times:\", mean_windspeed)\n",
    "\n",
    "# Step 9: Create a DataFrame called loc_stats and calculate the min, max and mean windspeeds and standard deviations of the windspeeds at each location over all the days.\n",
    "loc_stats = pd.DataFrame()\n",
    "loc_stats['min'] = data.min()\n",
    "loc_stats['max'] = data.max()\n",
    "loc_stats['mean'] = data.mean()\n",
    "loc_stats['std'] = data.std()\n",
    "print(\"\\nLocation Statistics:\\n\", loc_stats)\n",
    "\n",
    "# Step 10: Create a DataFrame called day_stats and calculate the min, max and mean windspeed and standard deviations of the windspeeds across all the locations at each day.\n",
    "day_stats = pd.DataFrame()\n",
    "day_stats['min'] = data.min(axis=1)\n",
    "day_stats['max'] = data.max(axis=1)\n",
    "day_stats['mean'] = data.mean(axis=1)\n",
    "day_stats['std'] = data.std(axis=1)\n",
    "print(\"\\nDay Statistics:\\n\", day_stats)\n",
    "\n",
    "# Step 11: Find the average windspeed in January for each location.\n",
    "january_data = data[data.index.month == 1]\n",
    "january_data_mean = january_data.mean()\n",
    "print(\"\\nAverage windspeed in January for each location:\\n\", january_data_mean)\n",
    "\n",
    "# Step 12: Downsample the record to a yearly frequency for each location.\n",
    "yearly_data = data.resample('Y').mean()\n",
    "print(\"\\nYearly Frequency for each location:\\n\", yearly_data)\n",
    "\n",
    "# Step 13: Downsample the record to a monthly frequency for each location.\n",
    "monthly_data = data.resample('M').mean()\n",
    "print(\"\\nMonthly Frequency for each location:\\n\", monthly_data)\n",
    "\n",
    "# Step 14: Downsample the record to a weekly frequency for each location.\n",
    "weekly_data = data.resample('W').mean()\n",
    "print(\"\\nWeekly Frequency for each location:\\n\", weekly_data)\n",
    "\n",
    "\n",
    "# Step 15: Calculate the min, max and mean windspeeds and standard deviations of the windspeeds across all locations for each week (assume that the first week starts on January 2 1961) for the first 52 weeks.\n",
    "\n",
    "start_date = '1961-01-02'\n",
    "end_date = '1961-12-25'\n",
    "#The start and end dates for the first 52 weeks has been calculated\n",
    "\n",
    "weekly_data = data.resample('W', closed='left', label='left').mean()\n",
    "\n",
    "weekly_data_first_year = weekly_data.loc[start_date:end_date]\n",
    "\n",
    "weekly_stats = pd.DataFrame()\n",
    "weekly_stats['min'] = weekly_data_first_year.min(axis=1)\n",
    "weekly_stats['max'] = weekly_data_first_year.max(axis=1)\n",
    "weekly_stats['mean'] = weekly_data_first_year.mean(axis=1)\n",
    "weekly_stats['std'] = weekly_data_first_year.std(axis=1)\n",
    "\n",
    "print(\"Weekly Stats for the First 52 Weeks of Data:\")\n",
    "print(weekly_stats.head(52))"
   ]
  },
  {
   "cell_type": "markdown",
   "id": "303fd977",
   "metadata": {},
   "source": [
    "<h1 style=\"color:mediumslateblue\">QUESTION 5: CHIPOTLE'S SALES DATA</h1>"
   ]
  },
  {
   "cell_type": "markdown",
   "id": "d377713c",
   "metadata": {},
   "source": [
    "<h2 style=\"color:darkcyan\">STEP 1 to STEP 4</h2>"
   ]
  },
  {
   "cell_type": "code",
   "execution_count": 31,
   "id": "cc69b0ea",
   "metadata": {},
   "outputs": [
    {
     "name": "stdout",
     "output_type": "stream",
     "text": [
      "   order_id  quantity                              item_name  \\\n",
      "0         1         1           Chips and Fresh Tomato Salsa   \n",
      "1         1         1                                   Izze   \n",
      "2         1         1                       Nantucket Nectar   \n",
      "3         1         1  Chips and Tomatillo-Green Chili Salsa   \n",
      "4         2         2                           Chicken Bowl   \n",
      "5         3         1                           Chicken Bowl   \n",
      "6         3         1                          Side of Chips   \n",
      "7         4         1                          Steak Burrito   \n",
      "8         4         1                       Steak Soft Tacos   \n",
      "9         5         1                          Steak Burrito   \n",
      "\n",
      "                                  choice_description item_price  \n",
      "0                                                NaN     $2.39   \n",
      "1                                       [Clementine]     $3.39   \n",
      "2                                            [Apple]     $3.39   \n",
      "3                                                NaN     $2.39   \n",
      "4  [Tomatillo-Red Chili Salsa (Hot), [Black Beans...    $16.98   \n",
      "5  [Fresh Tomato Salsa (Mild), [Rice, Cheese, Sou...    $10.98   \n",
      "6                                                NaN     $1.69   \n",
      "7  [Tomatillo Red Chili Salsa, [Fajita Vegetables...    $11.75   \n",
      "8  [Tomatillo Green Chili Salsa, [Pinto Beans, Ch...     $9.25   \n",
      "9  [Fresh Tomato Salsa, [Rice, Black Beans, Pinto...     $9.25   \n"
     ]
    }
   ],
   "source": [
    "# Step 1. Import the necessary libraries\n",
    "import pandas as pd\n",
    "\n",
    "# Step 2. Import the dataset from the given address\n",
    "url = \"https://raw.githubusercontent.com/justmarkham/DAT8/master/data/chipotle.tsv\"\n",
    "chipo = pd.read_csv(url, delimiter='\\t')\n",
    "\n",
    "# Step 3. Assign it to a variable called chipo\n",
    "\n",
    "# Step 4. See the first 10 entries\n",
    "print(chipo.head(10))"
   ]
  },
  {
   "cell_type": "markdown",
   "id": "a584a49d",
   "metadata": {},
   "source": [
    "<h2 style=\"color:darkcyan\">STEP 5 to STEP 17</h2>"
   ]
  },
  {
   "cell_type": "code",
   "execution_count": 32,
   "id": "b1322e3f",
   "metadata": {},
   "outputs": [
    {
     "name": "stdout",
     "output_type": "stream",
     "text": [
      "Number of observations: 4622\n",
      "Number of columns: 5\n",
      "Columns: Index(['order_id', 'quantity', 'item_name', 'choice_description',\n",
      "       'item_price'],\n",
      "      dtype='object')\n",
      "Index: RangeIndex(start=0, stop=4622, step=1)\n",
      "Most-ordered item: Chicken Bowl\n",
      "Number of ordered items: 761\n",
      "Most ordered item in choice_description: [Diet Coke]\n",
      "Total number of ordered items: 4972\n",
      "Type of item_price after conversion: float64\n",
      "Total revenue: 39237.02\n",
      "Number of orders: 1834\n",
      "Average revenue per order: 21.39423118865867\n",
      "Number of different items sold: 50\n"
     ]
    }
   ],
   "source": [
    "# Step 5. What is the number of observations in the dataset?\n",
    "print(\"Number of observations:\", len(chipo))\n",
    "\n",
    "# Step 6. What is the number of columns in the dataset?\n",
    "print(\"Number of columns:\", len(chipo.columns))\n",
    "\n",
    "# Step 7. Print the name of all the columns.\n",
    "print(\"Columns:\", chipo.columns)\n",
    "\n",
    "# Step 8. How is the dataset indexed?\n",
    "print(\"Index:\", chipo.index)\n",
    "\n",
    "# Step 9. Which was the most-ordered item?\n",
    "item_count = chipo.groupby(\"item_name\")[\"quantity\"].sum().sort_values(ascending=False)\n",
    "print(\"Most-ordered item:\", item_count.index[0])\n",
    "\n",
    "# Step 10. For the most-ordered item, how many items were ordered?\n",
    "print(\"Number of ordered items:\", item_count.iloc[0])\n",
    "\n",
    "# Step 11. What was the most ordered item in the choice_description column?\n",
    "choice_count = chipo.groupby(\"choice_description\")[\"quantity\"].sum().sort_values(ascending=False)\n",
    "print(\"Most ordered item in choice_description:\", choice_count.index[0])\n",
    "\n",
    "# Step 12. How many items were ordered in total?\n",
    "print(\"Total number of ordered items:\", chipo[\"quantity\"].sum())\n",
    "\n",
    "# Step 13.\n",
    "# Turn the item price into a float\n",
    "chipo[\"item_price\"] = chipo[\"item_price\"].apply(lambda x: float(x[1:]))\n",
    "# Check the item price type\n",
    "print(\"Type of item_price after conversion:\", chipo[\"item_price\"].dtype)\n",
    "\n",
    "# Step 14. How much was the revenue for the period in the dataset?\n",
    "revenue = (chipo[\"quantity\"] * chipo[\"item_price\"]).sum()\n",
    "print(\"Total revenue:\", revenue)\n",
    "\n",
    "# Step 15. How many orders were made in the period?\n",
    "num_orders = chipo[\"order_id\"].nunique()\n",
    "print(\"Number of orders:\", num_orders)\n",
    "\n",
    "# Step 16. What is the average revenue amount per order?\n",
    "avg_rev_per_order = revenue / num_orders\n",
    "print(\"Average revenue per order:\", avg_rev_per_order)\n",
    "\n",
    "# Step 17. How many different items are sold?\n",
    "num_items = chipo[\"item_name\"].nunique()\n",
    "print(\"Number of different items sold:\", num_items)"
   ]
  },
  {
   "cell_type": "markdown",
   "id": "f47c5e0f",
   "metadata": {},
   "source": [
    "<h1 style=\"color:mediumslateblue\">QUESTION 6: U.S. MARRIAGES AND DIVORCES</h1>"
   ]
  },
  {
   "cell_type": "code",
   "execution_count": 33,
   "id": "3b1fd28f",
   "metadata": {},
   "outputs": [
    {
     "data": {
      "image/png": "[encoded data removed]",
      "text/plain": [
       "<Figure size 640x480 with 1 Axes>"
      ]
     },
     "metadata": {},
     "output_type": "display_data"
    }
   ],
   "source": [
    "import pandas as pd\n",
    "import matplotlib.pyplot as plt\n",
    "\n",
    "df = pd.read_csv('us-marriages-divorces-1867-2014.csv')\n",
    "\n",
    "df['Marriages per Capita'] = df['Marriages'] / df['Population']\n",
    "\n",
    "df['Divorces per Capita'] = df['Divorces'] / df['Population']\n",
    "\n",
    "plt.plot(df['Year'], df['Marriages per Capita'], label='Marriages', color='seagreen')\n",
    "plt.plot(df['Year'], df['Divorces per Capita'], label='Divorces', color='crimson')\n",
    "\n",
    "\n",
    "plt.xlabel('Year', color='sienna')\n",
    "plt.ylabel('Number per Capita', color='sienna')\n",
    "           \n",
    "plt.title('MARRIAGES AND DIVORCES PER CAPITA IN THE U.S. BETWEEN 1867 AND 2014', color='darkcyan', fontweight='bold')\n",
    "plt.legend()\n",
    "\n",
    "plt.show()"
   ]
  },
  {
   "cell_type": "markdown",
   "id": "7006db2c",
   "metadata": {},
   "source": [
    "<h1 style=\"color:mediumslateblue\">QUESTION 7: U.S. MARRIAGES AND DIVORCESS</h1>"
   ]
  },
  {
   "cell_type": "code",
   "execution_count": 34,
   "id": "04e851fa",
   "metadata": {},
   "outputs": [
    {
     "data": {
      "image/png": "[encoded data removed]",
      "text/plain": [
       "<Figure size 640x480 with 1 Axes>"
      ]
     },
     "metadata": {},
     "output_type": "display_data"
    }
   ],
   "source": [
    "import pandas as pd\n",
    "import matplotlib.pyplot as plt\n",
    "\n",
    "df = pd.read_csv('us-marriages-divorces-1867-2014.csv')\n",
    "\n",
    "df = df[df['Year'].isin([1900, 1950, 2000])]\n",
    "\n",
    "df['Marriages per Capita'] = df['Marriages'] / df['Population']\n",
    "\n",
    "df['Divorces per Capita'] = df['Divorces'] / df['Population']\n",
    "\n",
    "barWidth = 0.25\n",
    "r1 = [1, 2, 3]\n",
    "r2 = [x + barWidth for x in r1]\n",
    "plt.bar(r1, df['Marriages per Capita'], color='seagreen', width=barWidth, edgecolor='darkslategrey', label='Marriages')\n",
    "plt.bar(r2, df['Divorces per Capita'], color='crimson', width=barWidth, edgecolor='brown', label='Divorces')\n",
    "\n",
    "plt.xlabel('Year', color='sienna')\n",
    "plt.ylabel('Number per Capita', color='sienna')\n",
    "plt.title('U.S. MARRIAGES AND DIVORCESS PER CAPITA BETWEEN 1900, 1950, and 2000', color='darkcyan', fontweight='bold')\n",
    "plt.xticks([1.25, 2.25, 3.25], ['1900', '1950', '2000'])\n",
    "plt.legend()\n",
    "\n",
    "plt.show()"
   ]
  },
  {
   "cell_type": "markdown",
   "id": "979b3eff",
   "metadata": {},
   "source": [
    "<h1 style=\"color:mediumslateblue\">QUESTION 8: HOLLYWOOD'S DEADLIEST ACTORS</h1>"
   ]
  },
  {
   "cell_type": "code",
   "execution_count": 35,
   "id": "3f23f64c",
   "metadata": {},
   "outputs": [
    {
     "data": {
      "image/png": "[encoded data removed]",
      "text/plain": [
       "<Figure size 640x480 with 1 Axes>"
      ]
     },
     "metadata": {},
     "output_type": "display_data"
    }
   ],
   "source": [
    "import pandas as pd\n",
    "import matplotlib.pyplot as plt\n",
    "\n",
    "df = pd.read_csv('actor_kill_counts.csv')\n",
    "\n",
    "df = df.sort_values(by=['Count'], ascending=True)\n",
    "\n",
    "plt.barh(df['Actor'], df['Count'], color='darkred')\n",
    "\n",
    "plt.xlabel('Kill Count', color='sienna')\n",
    "plt.ylabel('Actor', color='sienna')\n",
    "plt.title('DEADLIEST ACTORS IN HOLLYWOOD', color='darkcyan', fontweight='bold')\n",
    "\n",
    "for i, v in enumerate(df['Count']):\n",
    "    plt.text(v+1, i, str(v), color='crimson', va='center')\n",
    "\n",
    "plt.show()"
   ]
  },
  {
   "cell_type": "markdown",
   "id": "120d4f0b",
   "metadata": {},
   "source": [
    "<h1 style=\"color:mediumslateblue\">QUESTION 9: ROMAN EMPERORS</h1>"
   ]
  },
  {
   "cell_type": "code",
   "execution_count": 36,
   "id": "ab511a43",
   "metadata": {},
   "outputs": [
    {
     "data": {
      "image/png": "[encoded data removed]",
      "text/plain": [
       "<Figure size 640x480 with 1 Axes>"
      ]
     },
     "metadata": {},
     "output_type": "display_data"
    }
   ],
   "source": [
    "import pandas as pd\n",
    "import matplotlib.pyplot as plt\n",
    "\n",
    "df = pd.read_csv('roman-emperor-reigns.csv')\n",
    "\n",
    "assassinations = df[df['Cause_of_Death'] == 'Assassinated']['Emperor'].count()\n",
    "\n",
    "non_assassinations = df.shape[0] - assassinations\n",
    "\n",
    "labels = ['Assassinated', 'Non-assassination deaths']\n",
    "sizes = [assassinations, non_assassinations]\n",
    "colors = ['crimson', 'darkgrey']\n",
    "explode = (0.1, 0)\n",
    "plt.pie(sizes, labels=labels, colors=colors, explode=explode, autopct='%1.1f%%', startangle=90)\n",
    "\n",
    "plt.title('FRACTION OF ROMAN EMPERORS THAT WERE ASSASSINATED', color= 'darkcyan', fontweight='bold')\n",
    "\n",
    "plt.legend(loc='lower center', bbox_to_anchor=(0.5, -0.2), ncol=2)\n",
    "\n",
    "plt.axis('equal')\n",
    "\n",
    "plt.show()"
   ]
  },
  {
   "cell_type": "markdown",
   "id": "e9f77f53",
   "metadata": {},
   "source": [
    "<h1 style=\"color:mediumslateblue\">QUESTION 10: U.S. ARCADE-PHD SCATTERPLOT</h1>"
   ]
  },
  {
   "cell_type": "code",
   "execution_count": 37,
   "id": "366f3ae5",
   "metadata": {},
   "outputs": [
    {
     "data": {
      "image/png": "[encoded data removed]",
      "text/plain": [
       "<Figure size 640x480 with 2 Axes>"
      ]
     },
     "metadata": {},
     "output_type": "display_data"
    }
   ],
   "source": [
    "import pandas as pd\n",
    "import matplotlib.pyplot as plt\n",
    "\n",
    "df = pd.read_csv('arcade-revenue-vs-cs-doctorates.csv')\n",
    "\n",
    "df = df[(df['Year'] >= 2000) & (df['Year'] <= 2009)]\n",
    "\n",
    "plt.scatter(df['Total Arcade Revenue (billions)'], df['Computer Science Doctorates Awarded (US)'], c=df['Year'], cmap='cool')\n",
    "\n",
    "plt.xlabel('Total Arcade Revenue (billions)', color= 'sienna')\n",
    "plt.ylabel('Computer Science Doctorates Awarded (US)', color= 'sienna')\n",
    "plt.title('RELATIONSHIP BETWEEN ARCADE REVENUE AND CS DOCTORATES (2000-2009)',color= 'darkcyan', fontweight='bold')\n",
    "plt.colorbar(label='Year')\n",
    "\n",
    "plt.grid(alpha=0.15)\n",
    "\n",
    "plt.show()"
   ]
  }
 ],
 "metadata": {
  "kernelspec": {
   "display_name": "Python 3 (ipykernel)",
   "language": "python",
   "name": "python3"
  },
  "language_info": {
   "codemirror_mode": {
    "name": "ipython",
    "version": 3
   },
   "file_extension": ".py",
   "mimetype": "text/x-python",
   "name": "python",
   "nbconvert_exporter": "python",
   "pygments_lexer": "ipython3",
   "version": "3.9.13"
  }
 },
 "nbformat": 4,
 "nbformat_minor": 5
}
